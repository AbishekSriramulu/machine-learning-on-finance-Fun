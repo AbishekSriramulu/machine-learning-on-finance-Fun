{
 "cells": [
  {
   "cell_type": "code",
   "execution_count": 1,
   "metadata": {},
   "outputs": [
    {
     "data": {
      "image/png": "[encoded data removed]",
      "text/plain": [
       "<matplotlib.figure.Figure at 0x2c5d4c68b00>"
      ]
     },
     "metadata": {},
     "output_type": "display_data"
    }
   ],
   "source": [
    "import datetime as dt\n",
    "import matplotlib.pyplot as plt\n",
    "from matplotlib import style\n",
    "import pandas as pd\n",
    "import pandas_datareader.data as web\n",
    "style.use('ggplot')\n",
    "#start = dt.datetime(2000, 1, 1)\n",
    "#end = dt.datetime(2019, 1, 17)\n",
    "#df = web.DataReader('TSLA', \"yahoo\", start, end)\n",
    "#df.to_csv('tsla.csv')\n",
    "df = pd.read_csv('tsla.csv', parse_dates=True, index_col=0)\n",
    "df.plot()\n",
    "plt.show()"
   ]
  },
  {
   "cell_type": "code",
   "execution_count": 2,
   "metadata": {
    "collapsed": true
   },
   "outputs": [],
   "source": [
    "df['100ma'] = df ['Adj Close'].rolling(window=100).mean()"
   ]
  },
  {
   "cell_type": "code",
   "execution_count": 3,
   "metadata": {},
   "outputs": [
    {
     "name": "stdout",
     "output_type": "stream",
     "text": [
      "                 Open   High        Low      Close  Adj Close    Volume  100ma\n",
      "Date                                                                          \n",
      "2010-06-29  19.000000  25.00  17.540001  23.889999  23.889999  18766300    NaN\n",
      "2010-06-30  25.790001  30.42  23.299999  23.830000  23.830000  17187100    NaN\n",
      "2010-07-01  25.000000  25.92  20.270000  21.959999  21.959999   8218800    NaN\n",
      "2010-07-02  23.000000  23.10  18.709999  19.200001  19.200001   5139800    NaN\n",
      "2010-07-06  20.000000  20.00  15.830000  16.110001  16.110001   6866900    NaN\n"
     ]
    }
   ],
   "source": [
    "print (df.head())"
   ]
  },
  {
   "cell_type": "code",
   "execution_count": 4,
   "metadata": {},
   "outputs": [
    {
     "data": {
      "text/html": [
       "<div>\n",
       "<style>\n",
       "    .dataframe thead tr:only-child th {\n",
       "        text-align: right;\n",
       "    }\n",
       "\n",
       "    .dataframe thead th {\n",
       "        text-align: left;\n",
       "    }\n",
       "\n",
       "    .dataframe tbody tr th {\n",
       "        vertical-align: top;\n",
       "    }\n",
       "</style>\n",
       "<table border=\"1\" class=\"dataframe\">\n",
       "  <thead>\n",
       "    <tr style=\"text-align: right;\">\n",
       "      <th></th>\n",
       "      <th>Open</th>\n",
       "      <th>High</th>\n",
       "      <th>Low</th>\n",
       "      <th>Close</th>\n",
       "      <th>Adj Close</th>\n",
       "      <th>Volume</th>\n",
       "      <th>100ma</th>\n",
       "    </tr>\n",
       "    <tr>\n",
       "      <th>Date</th>\n",
       "      <th></th>\n",
       "      <th></th>\n",
       "      <th></th>\n",
       "      <th></th>\n",
       "      <th></th>\n",
       "      <th></th>\n",
       "      <th></th>\n",
       "    </tr>\n",
       "  </thead>\n",
       "  <tbody>\n",
       "    <tr>\n",
       "      <th>2018-01-12</th>\n",
       "      <td>338.630005</td>\n",
       "      <td>340.410004</td>\n",
       "      <td>333.670013</td>\n",
       "      <td>336.220001</td>\n",
       "      <td>336.220001</td>\n",
       "      <td>4825100</td>\n",
       "      <td>334.5627</td>\n",
       "    </tr>\n",
       "    <tr>\n",
       "      <th>2018-01-16</th>\n",
       "      <td>337.540009</td>\n",
       "      <td>345.000000</td>\n",
       "      <td>334.799988</td>\n",
       "      <td>340.059998</td>\n",
       "      <td>340.059998</td>\n",
       "      <td>6474300</td>\n",
       "      <td>334.5498</td>\n",
       "    </tr>\n",
       "    <tr>\n",
       "      <th>2018-01-17</th>\n",
       "      <td>340.470001</td>\n",
       "      <td>349.000000</td>\n",
       "      <td>339.750000</td>\n",
       "      <td>347.160004</td>\n",
       "      <td>347.160004</td>\n",
       "      <td>7103500</td>\n",
       "      <td>334.4937</td>\n",
       "    </tr>\n",
       "    <tr>\n",
       "      <th>2018-01-18</th>\n",
       "      <td>345.670013</td>\n",
       "      <td>352.299988</td>\n",
       "      <td>343.739990</td>\n",
       "      <td>344.570007</td>\n",
       "      <td>344.570007</td>\n",
       "      <td>5654600</td>\n",
       "      <td>334.4101</td>\n",
       "    </tr>\n",
       "    <tr>\n",
       "      <th>2018-01-19</th>\n",
       "      <td>345.000000</td>\n",
       "      <td>350.589905</td>\n",
       "      <td>342.600006</td>\n",
       "      <td>349.489990</td>\n",
       "      <td>349.489990</td>\n",
       "      <td>3855064</td>\n",
       "      <td>334.4245</td>\n",
       "    </tr>\n",
       "  </tbody>\n",
       "</table>\n",
       "</div>"
      ],
      "text/plain": [
       "                  Open        High         Low       Close   Adj Close  \\\n",
       "Date                                                                     \n",
       "2018-01-12  338.630005  340.410004  333.670013  336.220001  336.220001   \n",
       "2018-01-16  337.540009  345.000000  334.799988  340.059998  340.059998   \n",
       "2018-01-17  340.470001  349.000000  339.750000  347.160004  347.160004   \n",
       "2018-01-18  345.670013  352.299988  343.739990  344.570007  344.570007   \n",
       "2018-01-19  345.000000  350.589905  342.600006  349.489990  349.489990   \n",
       "\n",
       "             Volume     100ma  \n",
       "Date                           \n",
       "2018-01-12  4825100  334.5627  \n",
       "2018-01-16  6474300  334.5498  \n",
       "2018-01-17  7103500  334.4937  \n",
       "2018-01-18  5654600  334.4101  \n",
       "2018-01-19  3855064  334.4245  "
      ]
     },
     "execution_count": 4,
     "metadata": {},
     "output_type": "execute_result"
    }
   ],
   "source": [
    "df.tail()"
   ]
  },
  {
   "cell_type": "code",
   "execution_count": 5,
   "metadata": {
    "collapsed": true
   },
   "outputs": [],
   "source": [
    "df.dropna(inplace=True)"
   ]
  },
  {
   "cell_type": "code",
   "execution_count": 6,
   "metadata": {},
   "outputs": [
    {
     "data": {
      "text/html": [
       "<div>\n",
       "<style>\n",
       "    .dataframe thead tr:only-child th {\n",
       "        text-align: right;\n",
       "    }\n",
       "\n",
       "    .dataframe thead th {\n",
       "        text-align: left;\n",
       "    }\n",
       "\n",
       "    .dataframe tbody tr th {\n",
       "        vertical-align: top;\n",
       "    }\n",
       "</style>\n",
       "<table border=\"1\" class=\"dataframe\">\n",
       "  <thead>\n",
       "    <tr style=\"text-align: right;\">\n",
       "      <th></th>\n",
       "      <th>Open</th>\n",
       "      <th>High</th>\n",
       "      <th>Low</th>\n",
       "      <th>Close</th>\n",
       "      <th>Adj Close</th>\n",
       "      <th>Volume</th>\n",
       "      <th>100ma</th>\n",
       "    </tr>\n",
       "    <tr>\n",
       "      <th>Date</th>\n",
       "      <th></th>\n",
       "      <th></th>\n",
       "      <th></th>\n",
       "      <th></th>\n",
       "      <th></th>\n",
       "      <th></th>\n",
       "      <th></th>\n",
       "    </tr>\n",
       "  </thead>\n",
       "  <tbody>\n",
       "    <tr>\n",
       "      <th>2010-11-17</th>\n",
       "      <td>30.200001</td>\n",
       "      <td>30.750000</td>\n",
       "      <td>28.610001</td>\n",
       "      <td>29.490000</td>\n",
       "      <td>29.490000</td>\n",
       "      <td>750000</td>\n",
       "      <td>20.9879</td>\n",
       "    </tr>\n",
       "    <tr>\n",
       "      <th>2010-11-18</th>\n",
       "      <td>30.670000</td>\n",
       "      <td>30.740000</td>\n",
       "      <td>28.920000</td>\n",
       "      <td>29.889999</td>\n",
       "      <td>29.889999</td>\n",
       "      <td>956100</td>\n",
       "      <td>21.0479</td>\n",
       "    </tr>\n",
       "    <tr>\n",
       "      <th>2010-11-19</th>\n",
       "      <td>30.160000</td>\n",
       "      <td>31.370001</td>\n",
       "      <td>29.700001</td>\n",
       "      <td>30.990000</td>\n",
       "      <td>30.990000</td>\n",
       "      <td>1150500</td>\n",
       "      <td>21.1195</td>\n",
       "    </tr>\n",
       "    <tr>\n",
       "      <th>2010-11-22</th>\n",
       "      <td>31.570000</td>\n",
       "      <td>33.450001</td>\n",
       "      <td>31.500000</td>\n",
       "      <td>33.400002</td>\n",
       "      <td>33.400002</td>\n",
       "      <td>1529700</td>\n",
       "      <td>21.2339</td>\n",
       "    </tr>\n",
       "    <tr>\n",
       "      <th>2010-11-23</th>\n",
       "      <td>33.290001</td>\n",
       "      <td>35.680000</td>\n",
       "      <td>32.189999</td>\n",
       "      <td>34.570000</td>\n",
       "      <td>34.570000</td>\n",
       "      <td>1577800</td>\n",
       "      <td>21.3876</td>\n",
       "    </tr>\n",
       "  </tbody>\n",
       "</table>\n",
       "</div>"
      ],
      "text/plain": [
       "                 Open       High        Low      Close  Adj Close   Volume  \\\n",
       "Date                                                                         \n",
       "2010-11-17  30.200001  30.750000  28.610001  29.490000  29.490000   750000   \n",
       "2010-11-18  30.670000  30.740000  28.920000  29.889999  29.889999   956100   \n",
       "2010-11-19  30.160000  31.370001  29.700001  30.990000  30.990000  1150500   \n",
       "2010-11-22  31.570000  33.450001  31.500000  33.400002  33.400002  1529700   \n",
       "2010-11-23  33.290001  35.680000  32.189999  34.570000  34.570000  1577800   \n",
       "\n",
       "              100ma  \n",
       "Date                 \n",
       "2010-11-17  20.9879  \n",
       "2010-11-18  21.0479  \n",
       "2010-11-19  21.1195  \n",
       "2010-11-22  21.2339  \n",
       "2010-11-23  21.3876  "
      ]
     },
     "execution_count": 6,
     "metadata": {},
     "output_type": "execute_result"
    }
   ],
   "source": [
    "df.head()"
   ]
  },
  {
   "cell_type": "code",
   "execution_count": 7,
   "metadata": {},
   "outputs": [
    {
     "data": {
      "image/png": "[encoded data removed]",
      "text/plain": [
       "<matplotlib.figure.Figure at 0x2c5d4d08a58>"
      ]
     },
     "metadata": {},
     "output_type": "display_data"
    }
   ],
   "source": [
    "ax1 = plt.subplot2grid((6,1),(0,0), rowspan = 5, colspan = 1)\n",
    "ax2 = plt.subplot2grid((6,1),(5,0), rowspan = 5, colspan = 1, sharex= ax1)\n",
    "ax1.plot(df.index, df['Adj Close'])\n",
    "ax1.plot(df.index, df['100ma'])\n",
    "ax2.bar(df.index, df['Volume'])\n",
    "plt.show()"
   ]
  },
  {
   "cell_type": "code",
   "execution_count": null,
   "metadata": {
    "collapsed": true
   },
   "outputs": [],
   "source": []
  }
 ],
 "metadata": {
  "kernelspec": {
   "display_name": "Python 3",
   "language": "python",
   "name": "python3"
  },
  "language_info": {
   "codemirror_mode": {
    "name": "ipython",
    "version": 3
   },
   "file_extension": ".py",
   "mimetype": "text/x-python",
   "name": "python",
   "nbconvert_exporter": "python",
   "pygments_lexer": "ipython3",
   "version": "3.6.4"
  }
 },
 "nbformat": 4,
 "nbformat_minor": 2
}
